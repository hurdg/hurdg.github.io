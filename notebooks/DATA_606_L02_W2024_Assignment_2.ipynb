{
  "nbformat": 4,
  "nbformat_minor": 0,
  "metadata": {
    "colab": {
      "provenance": []
    },
    "kernelspec": {
      "name": "python3",
      "display_name": "Python 3"
    },
    "language_info": {
      "name": "python"
    }
  },
  "cells": [
    {
      "cell_type": "markdown",
      "source": [
        "## Assignment 2\n",
        "\n",
        "1. Produce a [stem plot](https://matplotlib.org/stable/api/_as_gen/matplotlib.pyplot.stem.html) of the probability mass function of the negative binomial distribution $\\operatorname{NB}(r, p)$ (see [scipy.stats.nbinom](https://docs.scipy.org/doc/scipy/reference/generated/scipy.stats.nbinom.html)) for $r=2$, $p=0.4$. Use `np.arange(30)` for the horizontal axis.\n",
        "\n",
        "2. The negative binomial distribution $\\operatorname{NB}(r, p)$ is a discrete probability distribution that models the number of failures in a sequence of independent and identically distributed Bernoulli trials with parameter $p$ before $r$ successes occur.\n",
        "\n",
        "  Write a function `sample_from_nb` (see below) that returns a sample of size $n$ drawn from $\\operatorname{NB}(r, p)$ using the above generative process. Half points for correct solutions using a `for` loop. (Obviously, you may not use `scipy.stats.nbinom.rvs` for this problem.)\n",
        "\n",
        "  ```python\n",
        "  def sample_from_nb(r, p, n, random_state=None):\n",
        "    if random_state == None:\n",
        "      random_state = np.random.default_rng()\n",
        "    ...\n",
        "  ```\n",
        "\n",
        "3. Make a stem plot of the empirical probabilities of drawing $0, 1, \\ldots, 30$\n",
        "   from $\\operatorname{NB}(r, p)$ for $r=5$, $p=0.4$ computed from a sample of size $n=10,000$ generated using your function `sample_from_nb`. Compare with the plot from (1). (If it doesn't match fairly closely, there's a problem with your `sample_from_nb` function.)\n",
        "\n",
        "4. (Agnesti, Problem 1.9) In an experiment on chlorophyll inheritance in maize, for 1103 seedlings of self-fertilized, heterozygous plants, 854 seedlings were green and 249 were yellow. Theory predicts a ratio of $3:1$. test the hypothesis that $3:1$ is the correct ratio. Report the $P$-value and interpret.\n",
        "\n",
        "5. (Agnesti, Problem 1.10) The table below contains Ladislaus von Bortiewicz's data on deaths of soldiers in the Prussian army from kicks by army mules (Fisher 1934, Quine and Seneta 1987). The data refer to 10 army corps, each observed for 20 years. in 109 corps-years of exposure, there were no deaths, in 65 corps-years, there was one death, and so on. Estimate the mean and test whether probabilities of occurrences in these five categories follow a Poisson distribution (truncated for $5$ and above).\n",
        "\n",
        "| Number of Deaths | Number of Corps-Years |\n",
        "| ---------------- | --------------------- |\n",
        "| $0$              | $109$                 |\n",
        "| $1$              | $65$                  |\n",
        "| $2$              | $22$                  |\n",
        "| $3$              | $3$                   |\n",
        "| $4$              | $1$                   |\n",
        "| $\\geq 5$         | $0$                   |"
      ],
      "metadata": {
        "id": "d3-OFhHiRtGN"
      }
    },
    {
      "cell_type": "code",
      "source": [],
      "metadata": {
        "id": "eGdVFarqx7Rl"
      },
      "execution_count": null,
      "outputs": []
    }
  ]
}